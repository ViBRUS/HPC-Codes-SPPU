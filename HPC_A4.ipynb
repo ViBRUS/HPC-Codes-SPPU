{
  "nbformat": 4,
  "nbformat_minor": 0,
  "metadata": {
    "colab": {
      "name": "HPC-A4.ipynb",
      "provenance": [],
      "collapsed_sections": [],
      "authorship_tag": "ABX9TyM9Gu8FPYt+jeA6VG++kaUv",
      "include_colab_link": true
    },
    "kernelspec": {
      "name": "python3",
      "display_name": "Python 3"
    },
    "language_info": {
      "name": "python"
    },
    "accelerator": "GPU"
  },
  "cells": [
    {
      "cell_type": "markdown",
      "metadata": {
        "id": "view-in-github",
        "colab_type": "text"
      },
      "source": [
        "<a href=\"https://colab.research.google.com/github/ViBRUS/HPC-Codes-SPPU/blob/main/HPC_A4.ipynb\" target=\"_parent\"><img src=\"https://colab.research.google.com/assets/colab-badge.svg\" alt=\"Open In Colab\"/></a>"
      ]
    },
    {
      "cell_type": "markdown",
      "metadata": {
        "id": "-8yDk0MIkJTp"
      },
      "source": [
        "# High Performance Computing\n",
        "## Assignment No.1 \n",
        "By **Vishal Sonar**\n",
        "\n",
        "GitHub: *https://github.com/ViBRUS*"
      ]
    },
    {
      "cell_type": "code",
      "metadata": {
        "colab": {
          "base_uri": "https://localhost:8080/"
        },
        "id": "IPXYbVD6zYai",
        "outputId": "fd0b83a0-eb43-4f1f-b758-b48f27ed7d19"
      },
      "source": [
        "!pip install git+git://github.com/andreinechaev/nvcc4jupyter.git"
      ],
      "execution_count": null,
      "outputs": [
        {
          "output_type": "stream",
          "text": [
            "Collecting git+git://github.com/andreinechaev/nvcc4jupyter.git\n",
            "  Cloning git://github.com/andreinechaev/nvcc4jupyter.git to /tmp/pip-req-build-w8146tso\n",
            "  Running command git clone -q git://github.com/andreinechaev/nvcc4jupyter.git /tmp/pip-req-build-w8146tso\n",
            "Building wheels for collected packages: NVCCPlugin\n",
            "  Building wheel for NVCCPlugin (setup.py) ... \u001b[?25l\u001b[?25hdone\n",
            "  Created wheel for NVCCPlugin: filename=NVCCPlugin-0.0.2-cp37-none-any.whl size=4307 sha256=16c1434d2e091899a0b62f8dc4e4bd5d86f4fd3edc65f2786c1e961f40dcf366\n",
            "  Stored in directory: /tmp/pip-ephem-wheel-cache-vbz1glqe/wheels/10/c2/05/ca241da37bff77d60d31a9174f988109c61ba989e4d4650516\n",
            "Successfully built NVCCPlugin\n",
            "Installing collected packages: NVCCPlugin\n",
            "Successfully installed NVCCPlugin-0.0.2\n"
          ],
          "name": "stdout"
        }
      ]
    },
    {
      "cell_type": "code",
      "metadata": {
        "colab": {
          "base_uri": "https://localhost:8080/"
        },
        "id": "cnawyW_d0ICH",
        "outputId": "649e59b0-f3a8-451f-b7e6-5e4325518869"
      },
      "source": [
        "%load_ext nvcc_plugin"
      ],
      "execution_count": null,
      "outputs": [
        {
          "output_type": "stream",
          "text": [
            "created output directory at /content/src\n",
            "Out bin /content/result.out\n"
          ],
          "name": "stdout"
        }
      ]
    },
    {
      "cell_type": "markdown",
      "metadata": {
        "id": "MRA5RIHR8vN2"
      },
      "source": [
        "# Parallel Search Algorithm- \n",
        "### Design and implement parallel algorithm utilizing all resources available. For \n",
        "\n",
        "\n",
        "1.   Binary Search for Sorted Array\n",
        "2.   Depth-First Search (tree or an undirected graph)\n",
        "3.   Breadth-First Search (tree or an undirected graph)\n",
        "\n",
        "\n",
        "\n",
        " \n",
        " \n"
      ]
    },
    {
      "cell_type": "code",
      "metadata": {
        "colab": {
          "base_uri": "https://localhost:8080/"
        },
        "id": "65dsZL3O0J_s",
        "outputId": "0f0a78c9-0674-4382-b366-c7cb1d360886"
      },
      "source": [
        "%%cu\n",
        "#include<iostream>\n",
        "#include<omp.h>\n",
        "#include<time.h>\n",
        "using namespace std;\n",
        "\n",
        "int binary_search(int a[],int low,int high,int key){\n",
        "  int loc = -1;\n",
        "  int mid;\n",
        "  while(low<=high){\n",
        "    mid = (high + low )/2;\n",
        "    if (a[mid] == key) {\n",
        "      loc = mid;\n",
        "      break;\n",
        "    }\n",
        "    else {\n",
        "      #pragma omp parallel sections\n",
        "      {\n",
        "        #pragma omp section\n",
        "        {\n",
        "          if(a[mid]<key){\n",
        "            low = mid+1;\n",
        "          }\n",
        "        }\n",
        "        #pragma omp section\n",
        "        {\n",
        "          if(a[mid]>key){\n",
        "            high = mid-1;\n",
        "          }\n",
        "        }\n",
        "      }\n",
        "    }\n",
        "  }\n",
        "  return loc;\n",
        "}\n",
        "\n",
        "int main(){\n",
        "\n",
        "  int a[1000000];\n",
        "  clock_t t1,t2;\n",
        "  int key = 0;\n",
        "  int loc,i;\n",
        "  for (int i = 0; i < 1000000; i++) {\n",
        "    a[i] = i;\n",
        "  }\n",
        "  key = 56798;\n",
        "  cout<<\"key to search: \"<<key<<endl;\n",
        "  //cin>>key;\n",
        "  \n",
        "  t1 = clock();\n",
        "  loc = binary_search(a,0,1000000,key);\n",
        "  t2 = clock();\n",
        "  if (loc == -1) {\n",
        "    cout<<\"Key not found\\n\";\n",
        "  } else {\n",
        "    cout<<\"Key found at \"<<loc<<\"\\n\";\n",
        "   // cout<<\"Running thread \"<<omp_get_thread_num()<<\"\\n\";\n",
        "  }\n",
        "  //cout<<\"Execution time: \"<<t1<<\"\\t\"<<t2<<\"\\t\"<<t2-t1<<\"\\n\";\n",
        "  printf(\"\\nExecution Time:%f\",(double)(t2-t1)/CLOCKS_PER_SEC);\n",
        "\n",
        "  return 0 ;\n",
        "}"
      ],
      "execution_count": null,
      "outputs": [
        {
          "output_type": "stream",
          "text": [
            "key to search: 56798\n",
            "Key found at 56798\n",
            "\n",
            "Execution Time:0.000002\n"
          ],
          "name": "stdout"
        }
      ]
    }
  ]
}