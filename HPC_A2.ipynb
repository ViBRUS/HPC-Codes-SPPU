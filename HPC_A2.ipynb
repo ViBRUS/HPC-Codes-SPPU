{
  "nbformat": 4,
  "nbformat_minor": 0,
  "metadata": {
    "colab": {
      "name": "HPC-A2.ipynb",
      "provenance": [],
      "collapsed_sections": [],
      "authorship_tag": "ABX9TyMhvviPTMT+nTTqaFqLMKz5",
      "include_colab_link": true
    },
    "kernelspec": {
      "name": "python3",
      "display_name": "Python 3"
    },
    "language_info": {
      "name": "python"
    },
    "accelerator": "GPU"
  },
  "cells": [
    {
      "cell_type": "markdown",
      "metadata": {
        "id": "view-in-github",
        "colab_type": "text"
      },
      "source": [
        "<a href=\"https://colab.research.google.com/github/ViBRUS/HPC-Codes-SPPU/blob/main/HPC_A2.ipynb\" target=\"_parent\"><img src=\"https://colab.research.google.com/assets/colab-badge.svg\" alt=\"Open In Colab\"/></a>"
      ]
    },
    {
      "cell_type": "markdown",
      "metadata": {
        "id": "4JEJ-DQijTMM"
      },
      "source": [
        "# High Performance Computing\n",
        "## Assignment No. 2 \n",
        "By **Vishal Sonar**\n",
        "\n",
        "GitHub: *https://github.com/ViBRUS*"
      ]
    },
    {
      "cell_type": "code",
      "metadata": {
        "colab": {
          "base_uri": "https://localhost:8080/"
        },
        "id": "lHNomabKeRD0",
        "outputId": "8079f8ac-f614-400d-946d-c378750b651b"
      },
      "source": [
        "!pip install git+git://github.com/andreinechaev/nvcc4jupyter.git"
      ],
      "execution_count": null,
      "outputs": [
        {
          "output_type": "stream",
          "text": [
            "Collecting git+git://github.com/andreinechaev/nvcc4jupyter.git\n",
            "  Cloning git://github.com/andreinechaev/nvcc4jupyter.git to /tmp/pip-req-build-b0ne92qk\n",
            "  Running command git clone -q git://github.com/andreinechaev/nvcc4jupyter.git /tmp/pip-req-build-b0ne92qk\n",
            "Building wheels for collected packages: NVCCPlugin\n",
            "  Building wheel for NVCCPlugin (setup.py) ... \u001b[?25l\u001b[?25hdone\n",
            "  Created wheel for NVCCPlugin: filename=NVCCPlugin-0.0.2-cp37-none-any.whl size=4307 sha256=78877ada26b6b99ada112a580dbc997e8e6c6fd8373e5a8b7f616c646efec540\n",
            "  Stored in directory: /tmp/pip-ephem-wheel-cache-qdlo65pm/wheels/10/c2/05/ca241da37bff77d60d31a9174f988109c61ba989e4d4650516\n",
            "Successfully built NVCCPlugin\n",
            "Installing collected packages: NVCCPlugin\n",
            "Successfully installed NVCCPlugin-0.0.2\n"
          ],
          "name": "stdout"
        }
      ]
    },
    {
      "cell_type": "code",
      "metadata": {
        "colab": {
          "base_uri": "https://localhost:8080/"
        },
        "id": "w9jmAdQdeQ0d",
        "outputId": "79a3f477-ce3c-4982-9421-6feafab9823b"
      },
      "source": [
        "%load_ext nvcc_plugin"
      ],
      "execution_count": null,
      "outputs": [
        {
          "output_type": "stream",
          "text": [
            "created output directory at /content/src\n",
            "Out bin /content/result.out\n"
          ],
          "name": "stdout"
        }
      ]
    },
    {
      "cell_type": "markdown",
      "metadata": {
        "id": "zBDZlww52Ryo"
      },
      "source": [
        "# HPC Assignment 2"
      ]
    },
    {
      "cell_type": "markdown",
      "metadata": {
        "id": "8IVMbCbT2dAz"
      },
      "source": [
        "### Vector and Matrix Operations Design parallel algorithm to\n",
        "\n",
        "1.   Add two large vectors.\n",
        "2.   Multiply Vector and Matrix.\n",
        "3.   Multiply two N × N arrays using n2 processors.\n",
        "\n",
        "\n"
      ]
    },
    {
      "cell_type": "code",
      "metadata": {
        "colab": {
          "base_uri": "https://localhost:8080/"
        },
        "id": "rEqA-anGeKZV",
        "outputId": "e822a875-9f04-4338-e3c8-33f800cefb41"
      },
      "source": [
        "%%cu\n",
        "\n",
        "#include <stdio.h>\n",
        "#include <stdlib.h>\n",
        "#include <math.h>\n",
        "#include <cuda.h>\n",
        "#define N 4\n",
        "#define TPB 2\n",
        " \n",
        "// CUDA kernel. Each thread takes care of one element of c\n",
        "__global__ void vecAdd(double *a, double *b, double *c, int n){\n",
        "    // Get our global thread ID\n",
        "    int id = blockIdx.x*blockDim.x+threadIdx.x; \n",
        "    // Make sure we do not go out of bounds\n",
        "    if (id < n)\n",
        "        c[id] = a[id] + b[id];\n",
        "}\n",
        "\n",
        "__global__ void matrixMultiplication(int *a, int *b, int *c, int n){\n",
        "    int row = blockIdx.y * blockDim.y + threadIdx.y;\n",
        "    int col = blockIdx.x * blockDim.x + threadIdx.x;\n",
        "    int sum = 0;\n",
        "    int i;\n",
        "    if (row < n && col < n){\n",
        "      for( i=0; i<n ;i++){\n",
        "        sum += a[row *n +i] *  b[i * n+ col];\n",
        "      }\n",
        "      c[row *N +col]=sum;\n",
        "    }\n",
        "}\n",
        " \n",
        "void vecAdd(){\n",
        "    // Size of vectors\n",
        "    int n = 100000;\n",
        " \n",
        "    // Host input vectors\n",
        "    double *h_a;\n",
        "    double *h_b;\n",
        "    //Host output vector\n",
        "    double *h_c;\n",
        " \n",
        "    // Device input vectors\n",
        "    double *d_a;\n",
        "    double *d_b;\n",
        "    //Device output vector\n",
        "    double *d_c;\n",
        " \n",
        "    // Size, in bytes, of each vector\n",
        "    size_t bytes = n*sizeof(double);\n",
        " \n",
        "    // Allocate memory for each vector on host\n",
        "    h_a = (double*)malloc(bytes);\n",
        "    h_b = (double*)malloc(bytes);\n",
        "    h_c = (double*)malloc(bytes);\n",
        " \n",
        "    // Allocate memory for each vector on GPU\n",
        "    cudaMalloc(&d_a, bytes);\n",
        "    cudaMalloc(&d_b, bytes);\n",
        "    cudaMalloc(&d_c, bytes);\n",
        " \n",
        "    int i;\n",
        "    // Initialize vectors on host\n",
        "    for( i = 0; i < n; i++ ){\n",
        "        h_a[i] = i;\n",
        "        h_b[i] = i;\n",
        "    }\n",
        " \n",
        "    // Copy host vectors to device\n",
        "    cudaMemcpy( d_a, h_a, bytes, cudaMemcpyHostToDevice);\n",
        "    cudaMemcpy( d_b, h_b, bytes, cudaMemcpyHostToDevice);\n",
        " \n",
        "    int blockSize, gridSize;\n",
        " \n",
        "    // Number of threads in each thread block\n",
        "    blockSize = 1024;\n",
        " \n",
        "    // Number of thread blocks in grid\n",
        "    gridSize = (int)ceil((float)n/blockSize);\n",
        " \n",
        "    // Execute the kernel\n",
        "    vecAdd<<<gridSize, blockSize>>>(d_a, d_b, d_c, n);\n",
        " \n",
        "    // Copy array back to host\n",
        "    cudaMemcpy( h_c, d_c, bytes, cudaMemcpyDeviceToHost );\n",
        " \n",
        "    // Sum up vector c and print result divided by n, this should equal 1 within error\n",
        "    double sum = 0;\n",
        "    for(i=0; i<n; i++)\n",
        "        sum += h_c[i];\n",
        "    printf(\"Sum: %f\\n\", sum/n);\n",
        " \n",
        "    // Release device memory\n",
        "    cudaFree(d_a);\n",
        "    cudaFree(d_b);\n",
        "    cudaFree(d_c);\n",
        " \n",
        "    // Release host memory\n",
        "    free(h_a);\n",
        "    free(h_b);\n",
        "    free(h_c);\n",
        "}\n",
        "\n",
        "void matMul(){\n",
        "  int *h_a, *h_b, *h_c;\n",
        "  int *d_a, *d_b, *d_c;\n",
        "\n",
        "  int size=sizeof(int)*N*N;\n",
        "  cudaEvent_t start,end;\n",
        "  float time=0;\n",
        "  h_a=(int*)malloc(size);\n",
        "  h_b=(int*)malloc(size);\n",
        "  h_c=(int*)malloc(size);\n",
        "  cudaEventCreate(&start);\n",
        "  cudaEventCreate(&end);\n",
        "  cudaEventRecord(start);\n",
        "\n",
        "  cudaMalloc(&d_a, size);\n",
        "  cudaMalloc(&d_b, size);\n",
        "  cudaMalloc(&d_c, size);\n",
        "\n",
        "  for (int i = 0; i < N*N; i++){\n",
        " \t  h_a[i] = random() % N;\n",
        " \t  h_b[i] = random() % N;\n",
        "  }\n",
        "\n",
        "  printf(\"\\nMatrix A =>\\n\\n\");\n",
        "  for (int i = 0; i < N; i++){\n",
        "    for(int j = 0;j<N; j++){\n",
        "      printf(\"%d \",h_a[i*N + j]);\n",
        "    }\n",
        " \t  printf(\"\\n\");\n",
        "   }\n",
        "\n",
        "  printf(\"\\nMatrix B =>\\n\\n\");\n",
        "   for (int i = 0; i < N; i++){\n",
        "      for(int j = 0;j<N; j++){\n",
        "        printf(\"%d \",h_b[i*N + j]);\n",
        "      }\n",
        "      printf(\"\\n\");\n",
        "    }\n",
        "\n",
        "\n",
        "\n",
        "  cudaMemcpy( d_a, h_a, size, cudaMemcpyHostToDevice);\n",
        "  cudaMemcpy( d_b, h_b, size, cudaMemcpyHostToDevice);\n",
        "\n",
        "  int BLOCK_SIZE=N / TPB;\n",
        "\n",
        "  dim3 GridSize(BLOCK_SIZE, BLOCK_SIZE);\n",
        "  dim3 BlockSize(TPB, TPB);\n",
        "\n",
        "  matrixMultiplication<<<GridSize,BlockSize>>>(d_a, d_b, d_c, N);\n",
        "\n",
        "  cudaMemcpy( h_c, d_c, size, cudaMemcpyDeviceToHost );\n",
        "  cudaEventRecord(end);\n",
        "  cudaEventSynchronize(end);\n",
        "  cudaEventElapsedTime(&time,start,end);\n",
        "  printf(\"\\nMatrix C =>\\n\\n\");\n",
        "\n",
        "  for (int i = 0; i < N; i++){\n",
        "    for(int j = 0;j<N; j++){\n",
        "      printf(\"%d \",h_c[i*N + j]);\n",
        "    }\n",
        "    printf(\"\\n\");\n",
        "  }\n",
        "\n",
        "  printf(\"Time taken to perform %d by %d matrix mul is: %lf ms\",N,N,time);\n",
        "\n",
        "   cudaFree(d_a);\n",
        "   cudaFree(d_b);\n",
        "   cudaFree(d_c);\n",
        "\n",
        "   free(h_a);\n",
        "   free(h_b);\n",
        "   free(h_c);\n",
        "}\n",
        "\n",
        "\n",
        "int main( int argc, char* argv[] )\n",
        "{\n",
        "    printf(\"Add two large vectors \\n\");\n",
        "    vecAdd();    \n",
        "    //printf(\"\\n\\n\\n Multiply Vector and Matrix \\n\");    \n",
        "    printf(\"\\n\\n\\n Multiply two N × N arrays using n2 processors\\n\");\n",
        "    matMul();\n",
        " return 0;\n",
        "}"
      ],
      "execution_count": null,
      "outputs": [
        {
          "output_type": "stream",
          "text": [
            "Add two large vectors \n",
            "Sum: 99999.000000\n",
            "\n",
            "\n",
            "\n",
            " Multiply two N × N arrays using n2 processors\n",
            "\n",
            "Matrix A =>\n",
            "\n",
            "3 1 1 2 \n",
            "1 2 2 3 \n",
            "0 0 3 3 \n",
            "2 2 3 1 \n",
            "\n",
            "Matrix B =>\n",
            "\n",
            "2 3 3 0 \n",
            "1 3 3 2 \n",
            "2 0 0 1 \n",
            "2 3 3 2 \n",
            "\n",
            "Matrix C =>\n",
            "\n",
            "13 18 18 7 \n",
            "14 18 18 12 \n",
            "12 9 9 9 \n",
            "14 15 15 9 \n",
            "Time taken to perform 4 by 4 matrix mul is: 0.172064 ms\n"
          ],
          "name": "stdout"
        }
      ]
    }
  ]
}