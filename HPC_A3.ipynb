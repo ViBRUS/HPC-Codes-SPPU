{
  "nbformat": 4,
  "nbformat_minor": 0,
  "metadata": {
    "colab": {
      "name": "HPC-A3.ipynb",
      "provenance": [],
      "collapsed_sections": [],
      "authorship_tag": "ABX9TyMh03PNJpaFWK4S2YPifTpY",
      "include_colab_link": true
    },
    "kernelspec": {
      "name": "python3",
      "display_name": "Python 3"
    },
    "language_info": {
      "name": "python"
    },
    "accelerator": "GPU"
  },
  "cells": [
    {
      "cell_type": "markdown",
      "metadata": {
        "id": "view-in-github",
        "colab_type": "text"
      },
      "source": [
        "<a href=\"https://colab.research.google.com/github/ViBRUS/HPC-Codes-SPPU/blob/main/HPC_A3.ipynb\" target=\"_parent\"><img src=\"https://colab.research.google.com/assets/colab-badge.svg\" alt=\"Open In Colab\"/></a>"
      ]
    },
    {
      "cell_type": "markdown",
      "metadata": {
        "id": "YiiBVjKojkVZ"
      },
      "source": [
        "# High Performance Computing\n",
        "## Assignment No. 3\n",
        "By **Vishal Sonar**\n",
        "\n",
        "GitHub: *https://github.com/ViBRUS*"
      ]
    },
    {
      "cell_type": "code",
      "metadata": {
        "colab": {
          "base_uri": "https://localhost:8080/"
        },
        "id": "-zbqkiT6u6m_",
        "outputId": "419fed32-1fb4-4205-9974-7bf5d9c38038"
      },
      "source": [
        "!pip install git+git://github.com/andreinechaev/nvcc4jupyter.git"
      ],
      "execution_count": null,
      "outputs": [
        {
          "output_type": "stream",
          "text": [
            "Collecting git+git://github.com/andreinechaev/nvcc4jupyter.git\n",
            "  Cloning git://github.com/andreinechaev/nvcc4jupyter.git to /tmp/pip-req-build-v97l1xbf\n",
            "  Running command git clone -q git://github.com/andreinechaev/nvcc4jupyter.git /tmp/pip-req-build-v97l1xbf\n",
            "Building wheels for collected packages: NVCCPlugin\n",
            "  Building wheel for NVCCPlugin (setup.py) ... \u001b[?25l\u001b[?25hdone\n",
            "  Created wheel for NVCCPlugin: filename=NVCCPlugin-0.0.2-cp37-none-any.whl size=4307 sha256=5defed3cb096f51759203f826a152fa777f4606770ce51002c0335f7c2e0a537\n",
            "  Stored in directory: /tmp/pip-ephem-wheel-cache-g167g9cj/wheels/10/c2/05/ca241da37bff77d60d31a9174f988109c61ba989e4d4650516\n",
            "Successfully built NVCCPlugin\n",
            "Installing collected packages: NVCCPlugin\n",
            "Successfully installed NVCCPlugin-0.0.2\n"
          ],
          "name": "stdout"
        }
      ]
    },
    {
      "cell_type": "code",
      "metadata": {
        "colab": {
          "base_uri": "https://localhost:8080/"
        },
        "id": "awDPjTYTu6eG",
        "outputId": "cf9dd770-3016-4505-fdb9-fe9f28ceb82f"
      },
      "source": [
        "%load_ext nvcc_plugin"
      ],
      "execution_count": null,
      "outputs": [
        {
          "output_type": "stream",
          "text": [
            "created output directory at /content/src\n",
            "Out bin /content/result.out\n"
          ],
          "name": "stdout"
        }
      ]
    },
    {
      "cell_type": "markdown",
      "metadata": {
        "id": "EV5wquNSu92N"
      },
      "source": [
        "# Write OpenMp program that Implements Parallel Sorting Algorithms for\n",
        "\n",
        "\n",
        "\n",
        "## 1.   Bubble Sort.\n"
      ]
    },
    {
      "cell_type": "code",
      "metadata": {
        "colab": {
          "base_uri": "https://localhost:8080/"
        },
        "id": "Tc__MgPvugN0",
        "outputId": "83207e5d-fdf0-47af-e881-0028f2ae3579"
      },
      "source": [
        "%%cu\n",
        "#include <iostream>\n",
        "#include <omp.h>\n",
        "using namespace std;\n",
        "\n",
        "void bubblesort(int a[],int n){\n",
        "  for (int i = 0; i < n; i++) {\n",
        "    int first = i%2;\n",
        "    #pragma omp parallel for shared(a,first)\n",
        "    for (int j = first; j < n-1; j+=2) {\n",
        "        if (a[j] > a[j+1]) {\n",
        "          int temp = a[j+1];\n",
        "          a[j+1] = a[j];\n",
        "          a[j] = temp;\n",
        "      }\n",
        "    }\n",
        "  }\n",
        "  cout<<\"Sorted list:(Bubble Sort)\\n\";\n",
        "  for (int i = 0; i < n; i++) {\n",
        "    cout<<a[i]<<\"   \";\n",
        "  }\n",
        "}\n",
        "\n",
        "int main(){\n",
        "  int n=100;\n",
        "  clock_t t1,t2;\n",
        "  cout<<\"total number of elements: \"<<n<<endl;\n",
        "  //cin>>n;\n",
        "  int a[n];\n",
        "  cout<<\"Storing elements in descending order....\\n\\n\";\n",
        "  for(int i = 0 ; i < n; i++){\n",
        "    a[i] = n-i;\n",
        "  }\n",
        "  cout<<\"Actual list:\\n\";\n",
        "  for (int i = 0; i < n; i++) {\n",
        "    cout<<a[i]<<\"   \";\n",
        "  }\n",
        "  cout<<\"\\n\";\n",
        "  t1=clock();\n",
        "  bubblesort(a,n);\n",
        "  t2=clock();\n",
        "  printf(\"\\nExecution Time: %f\",(double)(t2-t1)/CLOCKS_PER_SEC);\n",
        "}"
      ],
      "execution_count": null,
      "outputs": [
        {
          "output_type": "stream",
          "text": [
            "total number of elements: 100\n",
            "Storing elements in descending order....\n",
            "\n",
            "Actual list:\n",
            "100   99   98   97   96   95   94   93   92   91   90   89   88   87   86   85   84   83   82   81   80   79   78   77   76   75   74   73   72   71   70   69   68   67   66   65   64   63   62   61   60   59   58   57   56   55   54   53   52   51   50   49   48   47   46   45   44   43   42   41   40   39   38   37   36   35   34   33   32   31   30   29   28   27   26   25   24   23   22   21   20   19   18   17   16   15   14   13   12   11   10   9   8   7   6   5   4   3   2   1   \n",
            "Sorted list:(Bubble Sort)\n",
            "1   2   3   4   5   6   7   8   9   10   11   12   13   14   15   16   17   18   19   20   21   22   23   24   25   26   27   28   29   30   31   32   33   34   35   36   37   38   39   40   41   42   43   44   45   46   47   48   49   50   51   52   53   54   55   56   57   58   59   60   61   62   63   64   65   66   67   68   69   70   71   72   73   74   75   76   77   78   79   80   81   82   83   84   85   86   87   88   89   90   91   92   93   94   95   96   97   98   99   100   \n",
            "Execution Time: 0.000038\n"
          ],
          "name": "stdout"
        }
      ]
    },
    {
      "cell_type": "markdown",
      "metadata": {
        "id": "SD5nhgoB7HM2"
      },
      "source": [
        "\n",
        "## 2.   Merge Sort.\n",
        "\n"
      ]
    },
    {
      "cell_type": "code",
      "metadata": {
        "colab": {
          "base_uri": "https://localhost:8080/"
        },
        "id": "i5K_O2R17OAy",
        "outputId": "f88e6ab2-597a-44d9-afd5-3be86885eff2"
      },
      "source": [
        "%%cu\n",
        "#include<iostream>\n",
        "#include<omp.h>\n",
        "using namespace std;\n",
        "\n",
        "void merge(int arr[], int l, int m, int r)\n",
        "{\n",
        "\tint i, j, k;\n",
        "\tint n1 = m - l + 1;\n",
        "\tint n2 = r - m;\n",
        "\n",
        "\tint L[n1], R[n2];\n",
        "\n",
        "\tfor (i = 0; i < n1; i++)\n",
        "\t\tL[i] = arr[l + i];\n",
        "\tfor (j = 0; j < n2; j++)\n",
        "\t\tR[j] = arr[m + 1 + j];\n",
        "\n",
        "\ti = 0;\n",
        "\tj = 0;\n",
        "\tk = l;\n",
        "\twhile (i < n1 && j < n2)\n",
        "\t{\n",
        "\t\tif (L[i] <= R[j])\n",
        "\t\t{\n",
        "\t\t\tarr[k] = L[i];\n",
        "\t\t\ti++;\n",
        "\t\t}\n",
        "\t\telse\n",
        "\t\t{\n",
        "\t\t\tarr[k] = R[j];\n",
        "\t\t\tj++;\n",
        "\t\t}\n",
        "\t\tk++;\n",
        "\t}\n",
        "\n",
        "\n",
        "\twhile (i < n1)\n",
        "\t{\n",
        "\t\tarr[k] = L[i];\n",
        "\t\ti++;\n",
        "\t\tk++;\n",
        "\t}\n",
        "\n",
        "\n",
        "\twhile (j < n2)\n",
        "\t{\n",
        "\t\tarr[k] = R[j];\n",
        "\t\tj++;\n",
        "\t\tk++;\n",
        "\t}\n",
        "}\n",
        "\n",
        "\n",
        "void mergeSort(int arr[], int l, int r)\n",
        "{\n",
        "\tif (l < r)\n",
        "\t{\n",
        "\t\tint m = l+(r-l)/2;\n",
        "    #pragma omp parallel sections\n",
        "    {\n",
        "      #pragma omp section\n",
        "      {\n",
        "        mergeSort(arr, l, m);\n",
        "      }\n",
        "      #pragma omp section\n",
        "      {\n",
        "        mergeSort(arr, m+1, r);\n",
        "      }\n",
        "    }\n",
        "\t\tmerge(arr, l, m, r);\n",
        "\t}\n",
        "}\n",
        "\n",
        "void printArray(int A[], int size)\n",
        "{\n",
        "\tint i;\n",
        "\tfor (i=0; i < size; i++)\n",
        "\t\tcout<<A[i]<<\" \";\n",
        "  cout<<\"\\n\";\n",
        "}\n",
        "\n",
        "int main()\n",
        "{\n",
        "    int n=199;\n",
        "    clock_t t1,t2;\n",
        "    cout<<\"total number of elements: \"<<n<<endl;\n",
        "    //cin>>n;\n",
        "    int a[n];\n",
        "    cout<<\"Storing elements in descending order....\\n\\n\";\n",
        "    for(int i = 0 ; i < n; i++)\n",
        "    {\n",
        "        a[i] = n-i;\n",
        "    }\n",
        " \n",
        "    cout<<\"Actual list:\\n\";\n",
        "\tprintArray(a, n);\n",
        "\n",
        "    t1 = clock();\n",
        "\tmergeSort(a, 0, n - 1);\n",
        "    t2 = clock();\n",
        "    cout<<\"Sorted list:(Merge Sort)\\n\";\n",
        "\tprintArray(a, n);\n",
        "    printf(\"\\nExecution Time: %f\",(double)(t2-t1)/CLOCKS_PER_SEC);\n",
        "    return 0;\n",
        "}\n"
      ],
      "execution_count": null,
      "outputs": [
        {
          "output_type": "stream",
          "text": [
            "total number of elements: 199\n",
            "Storing elements in descending order....\n",
            "\n",
            "Actual list:\n",
            "199 198 197 196 195 194 193 192 191 190 189 188 187 186 185 184 183 182 181 180 179 178 177 176 175 174 173 172 171 170 169 168 167 166 165 164 163 162 161 160 159 158 157 156 155 154 153 152 151 150 149 148 147 146 145 144 143 142 141 140 139 138 137 136 135 134 133 132 131 130 129 128 127 126 125 124 123 122 121 120 119 118 117 116 115 114 113 112 111 110 109 108 107 106 105 104 103 102 101 100 99 98 97 96 95 94 93 92 91 90 89 88 87 86 85 84 83 82 81 80 79 78 77 76 75 74 73 72 71 70 69 68 67 66 65 64 63 62 61 60 59 58 57 56 55 54 53 52 51 50 49 48 47 46 45 44 43 42 41 40 39 38 37 36 35 34 33 32 31 30 29 28 27 26 25 24 23 22 21 20 19 18 17 16 15 14 13 12 11 10 9 8 7 6 5 4 3 2 1 \n",
            "Sorted list:(Merge Sort)\n",
            "1 2 3 4 5 6 7 8 9 10 11 12 13 14 15 16 17 18 19 20 21 22 23 24 25 26 27 28 29 30 31 32 33 34 35 36 37 38 39 40 41 42 43 44 45 46 47 48 49 50 51 52 53 54 55 56 57 58 59 60 61 62 63 64 65 66 67 68 69 70 71 72 73 74 75 76 77 78 79 80 81 82 83 84 85 86 87 88 89 90 91 92 93 94 95 96 97 98 99 100 101 102 103 104 105 106 107 108 109 110 111 112 113 114 115 116 117 118 119 120 121 122 123 124 125 126 127 128 129 130 131 132 133 134 135 136 137 138 139 140 141 142 143 144 145 146 147 148 149 150 151 152 153 154 155 156 157 158 159 160 161 162 163 164 165 166 167 168 169 170 171 172 173 174 175 176 177 178 179 180 181 182 183 184 185 186 187 188 189 190 191 192 193 194 195 196 197 198 199 \n",
            "\n",
            "Execution Time: 0.000017\n"
          ],
          "name": "stdout"
        }
      ]
    }
  ]
}